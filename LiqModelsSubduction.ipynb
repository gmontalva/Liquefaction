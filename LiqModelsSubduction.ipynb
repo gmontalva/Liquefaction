{
 "cells": [
  {
   "cell_type": "markdown",
   "id": "0cb67647-09e5-4c2c-9747-c5319abcdc76",
   "metadata": {
    "tags": []
   },
   "source": [
    "# Modelos de Predicción del Potencial de Licuación - FONDEF ID16I20157\n",
    "\n",
    "## *Ejemplos de Aplicación*\n",
    "\n",
    "En este Notebook se ejemplifica la aplicación de los modelos de predicción del potencial de licuación desarrollados para el proyecto FONDEF ID16I20157.\n",
    "\n",
    "Se entrega un ejemplo de aplicación para el modelo de CPT, y un ejemplo para el modelo de CPT.\n",
    "\n",
    "En cuanto a las medidas de intensidad utilizadas, para ambos casos se utilizan los modelos de Montalva et al. (2017)<sup>1</sup> y Montalva et al. (2022)<sup>2</sup>.\n",
    "\n",
    "Dichos modelos, junto con los modelos de predicción del potencial de licuación, se encuentran implementados en el GeoPortal de Peligrosidad Sísmica de Chile, el que está disponible en <a href=\"http://geop.servequake.com/cyclo/geoportal/app/\" target=\"_blank\">este link</a>.\n",
    "\n",
    "### Referencias\n",
    "\n",
    "1. Montalva, A., Bastías, N., y Rodriguez‐Marek, A. (2017) Ground‐Motion Prediction Equation for the Chilean Subduction Zone. *Bulletin of the Seismological Society of America*, *107*(2), 901–911. doi: https://doi.org/10.1785/0120160221\n",
    "\n",
    "2. Montalva, A., Bastías, N., Montalva, A., Bastías, N.  y Leyton, F. (2021) Strong Ground Motion Prediction Model for PGV and Spectral Velocity for the Chilean Subduction Zone. *Bulletin of the Seismological Society of America*, *112*(1), 348–360. doi: https://doi.org/10.1785/0120210037\n",
    "\n",
    "3. Lasley, S., Green, R., y Rodriguez-Marek, A. (2016). New Stress Reduction Coefficient Relationship for Liquefaction Triggering Analyses. *Journal of Geotechnical and Geoenvironmental Engineering*, *142*(11). doi: https://doi.org/10/f8825b\n",
    "\n",
    "4. Lasley, S., Green, R., y Rodriguez-Marek, A. (2017). Number of Equivalent Stress Cycles for Liquefaction Evaluations in Active Tectonic and Stable Continental Regimes. *Journal of Geotechnical and Geoenvironmental Engineering*, *143*(4). doi: https://doi.org/10/f937hd\n",
    "\n",
    "5. Boulanger, R., y Idriss, I. (2014). *CPT and SPT Based Liquefaction Triggering Procedures*. Report UCD/CGM-14/01. University of California: Department of Civil and Environmental Engineering, Center for Geotechnical Modeling.\n"
   ]
  },
  {
   "cell_type": "markdown",
   "id": "2f78ec2a-c2d2-4c3b-970f-08836a7c06d3",
   "metadata": {
    "tags": []
   },
   "source": [
    "# Aplicación del Modelo basado en CPT\n",
    "\n",
    "En este bloque se ejemplifica la aplicación del modelo de predicción de licuación basado en CPT.\n"
   ]
  },
  {
   "cell_type": "markdown",
   "id": "bedd8e07-9efc-4ade-902c-5ecfc1e0809d",
   "metadata": {},
   "source": [
    "## Inputs\n",
    "\n",
    "Para utilizar el modelo, se requieren los siguientes inputs:\n",
    "\n",
    "### Parámetros geotécnicos\n",
    "\n",
    "* Profundidad del estrato licuable (*z*) en *m*.\n",
    "    \n",
    "* Tensión vertical total (*$\\sigma$<sub>v0</sub>*) en *kPa*.\n",
    "     \n",
    "* Tensión vertical efectiva (*$\\sigma$'<sub>v0</sub>*) en *kPa*.\n",
    "\n",
    "* Resistencia por punta obtenida por CPT normalizada y corregida por finos (*q<sub>c1Ncs</sub>*) \n",
    "\n",
    "### Parámetros geofísicos\n",
    "\n",
    "* Frecuencia predominante del sitio (*f<sub>0</sub>*) en *Hz*.\n",
    "\n",
    "* Velocidad de onda de corte promedio en los primeros 12 metros (*V<sub>s12</sub>*) en *m/s*.\n",
    "\n",
    "* Velocidad de onda de corte promedio en los primeros 30 metros (*V<sub>s30</sub>*) en *m/s*.\n",
    "\n",
    "### Parámetros sísmicos\n",
    "\n",
    "* Magnitud de momento (*M<sub>w</sub>*)\n",
    "\n",
    "* Tipo de evento sísmico (*Subd*)\n",
    "\n",
    "* Aceleración máxima en superficie (*PGA*) en *g*.\n",
    "\n",
    "* Velocidad máxima en superficie (*PGA*) en *cm/s*.\n"
   ]
  },
  {
   "cell_type": "code",
   "execution_count": 20,
   "id": "962a7666-f6aa-4705-a5cd-95aff1ff2113",
   "metadata": {},
   "outputs": [],
   "source": [
    "# En primera instancia, se importan algunos modulos necesarios para correr el código\n",
    "\n",
    "import numpy as np\n",
    "\n",
    "from scipy.stats import norm\n",
    "\n",
    "# A continuación se definen los inputs para aplicar el modelo\n",
    "\n",
    "# Parámetros geotécnicos\n",
    "\n",
    "z = 8.97 #Profundidad en [m]\n",
    "\n",
    "st_tot = 134.1 #Tensión vertical total en [kPa]\n",
    "\n",
    "st_eff = 109.91 #Tensión vertical efectiva en [kPa]\n",
    "\n",
    "q_c1Ncs = 131.01 #Resistencia por punta obtenida por CPT normalizada y corregida\n",
    "\n",
    "\n",
    "# Parámetros geofísicos\n",
    "\n",
    "Vs12 = 206.8 # Velocidad de onda de corte promedio en los primeros 12 metros en [m/s]\n",
    "\n",
    "Vs30 = 234.8 # Velocidad de onda de corte promedio en los primeros 12 metros en [m/s]\n",
    "\n",
    "f0 = 1.25 # Frecuencia predominante en [Hz]\n",
    "\n",
    "\n",
    "# Parámetros geofísicos\n",
    "\n",
    "Subd = 1 # Tipo de evento: (1) Interface (0) Otro\n",
    "\n",
    "Mw = 8.8 # Velocidad de onda de corte promedio en los primeros 12 metros en [m/s]\n",
    "\n",
    "PGA = 0.292 # Aceleración máxima en superficie en [g]\n",
    "\n",
    "PGV = 64.133 #  Velocidad máxima en superficie en [cm/s]\n",
    "\n",
    "# Tanto PGA como PGV se estimaron en el GeoPortal, utilizando los siguientes parámetros complementarios\n",
    "#\n",
    "#    Distancia = 75 km\n",
    "#\n",
    "#    Profundidad focal = 25 km\n",
    "#\n",
    "#    Antearco / Trasarco = 0\n",
    "#\n",
    "#    Peak Claro = 1\n",
    "#\n",
    "#    epsilon = 0\n",
    "\n"
   ]
  },
  {
   "cell_type": "markdown",
   "id": "b721e646-63a4-4263-9f1c-7ebe92e8f861",
   "metadata": {
    "tags": []
   },
   "source": [
    "## Cálculos Intermedios\n",
    "\n",
    "A continuación se ilustra paso a paso la aplicación del modelo:"
   ]
  },
  {
   "cell_type": "markdown",
   "id": "137261b5-f76c-4568-a84d-4113d472d947",
   "metadata": {},
   "source": [
    "La ecuación que describe la demanda cíclica (CSR) es:\n",
    "\n",
    "$$CSR_{Mod} = S_{Mod} \\cdot CSR$$\n",
    "\n",
    "Donde:\n",
    "\n",
    "$$CSR = 0.65\\cdot\\frac{PGA}{g}\\cdot\\frac{\\sigma_{v0}}{\\sigma'_{v0}}\\cdot \\frac{r_{d}}{MSF\\cdot K_{\\sigma}}$$\n",
    "\n"
   ]
  },
  {
   "cell_type": "markdown",
   "id": "5acf8f80-0bd5-466c-a168-f8af9d19d547",
   "metadata": {},
   "source": [
    "El parámetro $K_{\\sigma}$ se calcula con el Modelo de Boulanger e Idriss (2014):"
   ]
  },
  {
   "cell_type": "code",
   "execution_count": 21,
   "id": "7c5e7df0-c6e3-44e0-9024-b754d1aef129",
   "metadata": {},
   "outputs": [
    {
     "name": "stdout",
     "output_type": "stream",
     "text": [
      "0.9889268673972329\n"
     ]
    }
   ],
   "source": [
    "p_atm = 101.325 # Presión atmosférica\n",
    "\n",
    "q = np.where(q_c1Ncs > 211, 211, q_c1Ncs) # Verificación de que q_c1Ncs está dentro de los límites de aplicación de la fórmula\n",
    "\n",
    "Csig = 1/ (37.3 - 8.27 * (q ** 0.264)) # Factor intermedio\n",
    "\n",
    "Csig = np.where(Csig > 0.3, 0.3, Csig) # Verificación de que Csig se encuentra dentro de los límites permitidos\n",
    "\n",
    "Ksig = 1 - Csig * np.log(st_eff / p_atm) # Factor de corrección por confinamiento\n",
    "\n",
    "Ksig = np.where(Ksig > 1.1, 1.1, Ksig) # Verificación de que Ksig se encuentra dentro de los límites permitidos\n",
    "\n",
    "print(Ksig)\n"
   ]
  },
  {
   "cell_type": "markdown",
   "id": "fcdf6a79-a28b-4fad-8b41-8c458b8d0ddf",
   "metadata": {},
   "source": [
    "El parámetro $r_{d}$ se calcula con el Modelo de Lasley et al (2016):"
   ]
  },
  {
   "cell_type": "code",
   "execution_count": 22,
   "id": "7174d329",
   "metadata": {},
   "outputs": [
    {
     "name": "stdout",
     "output_type": "stream",
     "text": [
      "0.9495806623027131\n"
     ]
    }
   ],
   "source": [
    "alpha = np.exp(-3.793 + 0.4016 * Mw - 0.001405 * Vs12) # Parámetro intermedio\n",
    "    \n",
    "beta = np.exp(-1.380 + 0.3276 * Mw + 0.01332 * Vs12) # Parámetro intermedio \n",
    "    \n",
    "rd = (1 - alpha) * np.exp(-z / beta) + alpha # Factor de reducción de esfuerzos\n",
    "    \n",
    "print(rd)\n"
   ]
  },
  {
   "cell_type": "markdown",
   "id": "57341d89-5b08-454a-8c39-5d208923b8d5",
   "metadata": {},
   "source": [
    "El parámetro $MSF$ se calcula con el Modelo de Lasley et al (2017):"
   ]
  },
  {
   "cell_type": "code",
   "execution_count": 23,
   "id": "87aa3074-c8e7-4de6-889a-f5172ffbdcfa",
   "metadata": {},
   "outputs": [
    {
     "name": "stdout",
     "output_type": "stream",
     "text": [
      "0.8799650036493369\n"
     ]
    }
   ],
   "source": [
    "neq = np.exp(0.4605 - 0.4082 * np.log(PGA) + 0.2332 * Mw) # N° de ciclos equivalentes\n",
    "    \n",
    "MSF = (14 / neq) ** 0.34 # Magnitude Scaling Factor\n",
    "\n",
    "MSF = np.where(MSF > 2.02, 2.02, MSF) # Verificación de que MSF se encuentra dentro de los límites permitidos\n",
    "\n",
    "print(MSF)\n"
   ]
  },
  {
   "cell_type": "markdown",
   "id": "907dd3d7-1cdc-47bf-97a6-4bf0fda2b920",
   "metadata": {},
   "source": [
    "Una vez obtenidos los parámetros $K_{\\sigma}$, $r_{d}$ y $MSF$ se puede calcular la demanda cíclica sin ajustar ($CSR$):"
   ]
  },
  {
   "cell_type": "code",
   "execution_count": 24,
   "id": "a3449a76-d93b-4fcd-be66-0cfc15b9b27b",
   "metadata": {},
   "outputs": [
    {
     "name": "stdout",
     "output_type": "stream",
     "text": [
      "0.2526911682976022\n"
     ]
    }
   ],
   "source": [
    "CSR = 0.65 * PGA * (st_tot / st_eff) * rd / (MSF * Ksig) # Demanda cíclica sin ajustar\n",
    "\n",
    "print(CSR)"
   ]
  },
  {
   "cell_type": "markdown",
   "id": "1a697921-3cc4-42ca-be80-75d5dedbee44",
   "metadata": {},
   "source": [
    "La demanda cíclica obtenida anteriormente se ajustará para eventos de subducción de interface:"
   ]
  },
  {
   "cell_type": "code",
   "execution_count": 25,
   "id": "7ff2deb9-2572-4c54-ae53-e26d9cf7da5e",
   "metadata": {},
   "outputs": [
    {
     "name": "stdout",
     "output_type": "stream",
     "text": [
      "0.5308120015319138\n"
     ]
    }
   ],
   "source": [
    "if Subd == 1: # Si el terremoto es de interface, se ajusta la demanda cíclica\n",
    "\n",
    "    Smod = (((1 / f0 )** 2.6165) *\n",
    "            ((10 / PGV) ** 2.2694) * \n",
    "            ((Vs30 / Vs12) ** 1.1057) * \n",
    "            np.exp(1.5645 * (np.log(PGV / 10)) ** 2)\n",
    "            ) #Factor de modificación para eventos de interface\n",
    "\n",
    "else: # Si el terremoto no es de interface, no se ajusta la demanda cíclica\n",
    "\n",
    "    Smod = 1\n",
    "\n",
    "CSR_mod = CSR * Smod\n",
    "\n",
    "print(CSR_mod)\n"
   ]
  },
  {
   "cell_type": "markdown",
   "id": "148e5061-13b3-427f-aa52-efbc2b6d302e",
   "metadata": {},
   "source": [
    "La ecuación que describe la resistencia cíclica (CRR) es:\n",
    "\n",
    "$$CRR = \\exp\\left(1.1002\\cdot\\left[\\frac{q_{c1Ncs}}{113}+\\left(\\frac{q_{c1Ncs}}{1000}\\right)^2-\\left(\\frac{q_{c1Ncs}}{140}\\right)^3+\\left(\\frac{q_{c1Ncs}}{137}\\right)^4\\right] - 2.8433\\right)$$"
   ]
  },
  {
   "cell_type": "markdown",
   "id": "2a6f0ad2-460f-4040-92b3-9c3e66ae9179",
   "metadata": {},
   "source": [
    "La resistencia cíclica se obtiene a continuación:"
   ]
  },
  {
   "cell_type": "code",
   "execution_count": 26,
   "id": "a9a423e7-01a1-449c-9e2d-56d21dee0901",
   "metadata": {},
   "outputs": [
    {
     "name": "stdout",
     "output_type": "stream",
     "text": [
      "0.21644947638113113\n"
     ]
    }
   ],
   "source": [
    "CRR = np.exp(1.1002 * ((q / 113) + (q / 1000) ** 2 - (q / 140) ** 3 + (q / 137) ** 4) - 2.8433)\n",
    "\n",
    "print(CRR)"
   ]
  },
  {
   "cell_type": "markdown",
   "id": "76f6a649-7a60-47f0-a687-153f634ddde3",
   "metadata": {},
   "source": [
    "Una vez calculadas tanto la demanda cíclica como la resistencia cíclica, puede obtnerse tanto la probabilidad de licuar ($P_{Liq}$) como el factor de seguridad ($FS_{Liq}$).\n",
    "\n",
    "La probabilidad de licuar se obtiene con la siguiente ecuación:\n",
    "\n",
    "$$P_{Liq} = \\Phi\\left[ - \\frac{\\ln(CRR) - \\ln(CSR_{Mod})}{0.5502}\\right] $$\n",
    "\n",
    "Donde $\\Phi$ es la función de distribución de probabilidad de la distribución normal.\n",
    "\n",
    "El factor de seguridad a licuar se obtiene con la siguiente ecuación:\n",
    "\n",
    "$$FS_{Liq} = \\frac{CRR\\cdot\\exp\\left[0.5502\\cdot\\Phi^{-1}\\left(0.25\\right)\\right]}{CSR_{Mod}} $$"
   ]
  },
  {
   "cell_type": "markdown",
   "id": "5391f8f1-531f-4370-8996-c96c2876e32c",
   "metadata": {},
   "source": [
    "La probabilidad de licuar se obtiene a continuación:"
   ]
  },
  {
   "cell_type": "code",
   "execution_count": 27,
   "id": "200910a4-555b-4316-9833-eb3ed24fd642",
   "metadata": {},
   "outputs": [
    {
     "name": "stdout",
     "output_type": "stream",
     "text": [
      "0.948\n"
     ]
    }
   ],
   "source": [
    "Pliq = norm.cdf(- (np.log(CRR) - np.log(CSR_mod)) / 0.5502)\n",
    "\n",
    "print(round(Pliq, 3))"
   ]
  },
  {
   "cell_type": "markdown",
   "id": "7952c5b4-6e9d-4beb-ada8-dcad710ef657",
   "metadata": {},
   "source": [
    " El factor de seguridad a licuar se obtiene a continuación:"
   ]
  },
  {
   "cell_type": "code",
   "execution_count": 28,
   "id": "64b8e36e-ba22-4b7f-8224-9950bfee29c2",
   "metadata": {},
   "outputs": [
    {
     "name": "stdout",
     "output_type": "stream",
     "text": [
      "0.281\n"
     ]
    }
   ],
   "source": [
    "CRR25 = CRR * np.exp(0.5502 * norm.ppf(0.25))\n",
    "    \n",
    "FSliq = CRR25 / CSR_mod\n",
    "\n",
    "print(round(FSliq, 3))"
   ]
  },
  {
   "cell_type": "markdown",
   "id": "1f218746-285b-403a-8e33-4dacae49a2d0",
   "metadata": {
    "tags": []
   },
   "source": [
    "# Aplicación del Modelo basado en SPT\n",
    "\n",
    "En este bloque se ejemplifica la aplicación del modelo de predicción de licuación basado en SPT.\n"
   ]
  },
  {
   "cell_type": "markdown",
   "id": "49ae75cb-9b88-4ca2-b4f7-cb0edd838598",
   "metadata": {},
   "source": [
    "## Inputs\n",
    "\n",
    "Para utilizar el modelo, se requieren los siguientes inputs:\n",
    "\n",
    "### Parámetros geotécnicos\n",
    "\n",
    "* Profundidad del estrato licuable (*z*) en *m*.\n",
    "    \n",
    "* Tensión vertical total (*$\\sigma$<sub>v0</sub>*) en *kPa*.\n",
    "     \n",
    "* Tensión vertical efectiva (*$\\sigma$'<sub>v0</sub>*) en *kPa*.\n",
    "\n",
    "* N° de golpes obtenidos con SPT normalizados y corregidos por finos (*(N<sub>1</sub>)<sub>60cs</sub>*) \n",
    "\n",
    "### Parámetros geofísicos\n",
    "\n",
    "* Frecuencia predominante del sitio (*f<sub>0</sub>*) en *Hz*.\n",
    "\n",
    "* Velocidad de onda de corte promedio en los primeros 12 metros (*V<sub>s12</sub>*) en *m/s*.\n",
    "\n",
    "* Velocidad de onda de corte promedio en los primeros 30 metros (*V<sub>s30</sub>*) en *m/s*.\n",
    "\n",
    "### Parámetros sísmicos\n",
    "\n",
    "* Magnitud de momento (*M<sub>w</sub>*)\n",
    "\n",
    "* Tipo de evento sísmico (*Subd*)\n",
    "\n",
    "* Aceleración máxima en superficie (*PGA*) en *g*.\n",
    "\n",
    "* Velocidad máxima en superficie (*PGA*) en *cm/s*.\n"
   ]
  },
  {
   "cell_type": "code",
   "execution_count": 29,
   "id": "0eed1e88-4474-4608-8666-83ee1b1193f9",
   "metadata": {},
   "outputs": [],
   "source": [
    "# En primera instancia, se importan algunos modulos necesarios para correr el código\n",
    "\n",
    "import numpy as np\n",
    "\n",
    "from scipy.stats import norm\n",
    "\n",
    "# A continuación se definen los inputs para aplicar el modelo\n",
    "\n",
    "# Parámetros geotécnicos\n",
    "\n",
    "z = 8.97 #Profundidad en [m]\n",
    "\n",
    "st_tot = 134.1 #Tensión vertical total en [kPa]\n",
    "\n",
    "st_eff = 109.91 #Tensión vertical efectiva en [kPa]\n",
    "\n",
    "N1_60cs = 12.5 # N° de golpes corregidos y normalizados\n",
    "\n",
    "\n",
    "# Parámetros geofísicos\n",
    "\n",
    "Vs12 = 206.8 # Velocidad de onda de corte promedio en los primeros 12 metros en [m/s]\n",
    "\n",
    "Vs30 = 234.8 # Velocidad de onda de corte promedio en los primeros 12 metros en [m/s]\n",
    "\n",
    "f0 = 1.25 # Frecuencia predominante en [Hz]\n",
    "\n",
    "\n",
    "# Parámetros geofísicos\n",
    "\n",
    "Subd = 1 # Tipo de evento: (1) Interface (0) Otro\n",
    "\n",
    "Mw = 8.8 # Velocidad de onda de corte promedio en los primeros 12 metros en [m/s]\n",
    "\n",
    "PGA = 0.292 # Aceleración máxima en superficie en [g]\n",
    "\n",
    "PGV = 64.133 #  Velocidad máxima en superficie en [cm/s]\n",
    "\n",
    "# Tanto PGA como PGV se estimaron en el GeoPortal, utilizando los siguientes parámetros complementarios\n",
    "#\n",
    "#    Distancia = 75 km\n",
    "#\n",
    "#    Profundidad focal = 25 km\n",
    "#\n",
    "#    Antearco / Trasarco = 0\n",
    "#\n",
    "#    Peak Claro = 1\n",
    "#\n",
    "#    epsilon = 0\n",
    "\n"
   ]
  },
  {
   "cell_type": "markdown",
   "id": "dfffe133-3a30-4db6-b63d-69b4b0251df8",
   "metadata": {
    "tags": []
   },
   "source": [
    "## Cálculos Intermedios\n",
    "\n",
    "A continuación se ilustra paso a paso la aplicación del modelo:"
   ]
  },
  {
   "cell_type": "markdown",
   "id": "29c0ec79-b0e0-4c30-888c-82570056b86d",
   "metadata": {},
   "source": [
    "La ecuación que describe la demanda cíclica (CSR) es:\n",
    "\n",
    "$$CSR_{Mod} = S_{Mod} \\cdot CSR$$\n",
    "\n",
    "Donde:\n",
    "\n",
    "$$CSR = 0.65\\cdot\\frac{PGA}{g}\\cdot\\frac{\\sigma_{v0}}{\\sigma'_{v0}}\\cdot \\frac{r_{d}}{MSF\\cdot K_{\\sigma}}$$\n",
    "\n"
   ]
  },
  {
   "cell_type": "markdown",
   "id": "8977145e-7d50-4dd8-bbe3-129099158e9a",
   "metadata": {},
   "source": [
    "El parámetro $K_{\\sigma}$ se calcula con el Modelo de Boulanger e Idriss (2014):"
   ]
  },
  {
   "cell_type": "code",
   "execution_count": 30,
   "id": "f7c87192-339b-4e22-80c8-6e62814a7775",
   "metadata": {},
   "outputs": [
    {
     "name": "stdout",
     "output_type": "stream",
     "text": [
      "0.9917720073185737\n"
     ]
    }
   ],
   "source": [
    "p_atm = 101.325 # Presión atmosférica\n",
    "\n",
    "N = np.where(N1_60cs > 37, 37, N1_60cs) # Verificación de que q_c1Ncs está dentro de los límites de aplicación de la fórmula\n",
    "\n",
    "Csig = 1/ (18.9 - 2.55 * np.sqrt(N)) # Factor intermedio\n",
    "\n",
    "Csig = np.where(Csig > 0.3, 0.3, Csig) # Verificación de que Csig se encuentra dentro de los límites permitidos\n",
    "\n",
    "Ksig = 1 - Csig * np.log(st_eff / p_atm) # Factor de corrección por confinamiento\n",
    "\n",
    "Ksig = np.where(Ksig > 1.1, 1.1, Ksig) # Verificación de que Ksig se encuentra dentro de los límites permitidos\n",
    "\n",
    "print(Ksig)\n"
   ]
  },
  {
   "cell_type": "markdown",
   "id": "d8387836-a347-4899-a85e-0b6392411d1b",
   "metadata": {},
   "source": [
    "El parámetro $r_{d}$ se calcula con el Modelo de Lasley et al (2016):"
   ]
  },
  {
   "cell_type": "code",
   "execution_count": 31,
   "id": "a74e5655-228c-472f-9ccc-07b14421cde3",
   "metadata": {},
   "outputs": [
    {
     "name": "stdout",
     "output_type": "stream",
     "text": [
      "0.9495806623027131\n"
     ]
    }
   ],
   "source": [
    "alpha = np.exp(-3.793 + 0.4016 * Mw - 0.001405 * Vs12) # Parámetro intermedio\n",
    "    \n",
    "beta = np.exp(-1.380 + 0.3276 * Mw + 0.01332 * Vs12) # Parámetro intermedio \n",
    "    \n",
    "rd = (1 - alpha) * np.exp(-z / beta) + alpha # Factor de reducción de esfuerzos\n",
    "    \n",
    "print(rd)\n"
   ]
  },
  {
   "cell_type": "markdown",
   "id": "041a710b-25b2-480e-8f30-0adac972e472",
   "metadata": {},
   "source": [
    "El parámetro $MSF$ se calcula con el Modelo de Lasley et al (2017):"
   ]
  },
  {
   "cell_type": "code",
   "execution_count": 32,
   "id": "d9790cfe-5706-4d54-8721-7bf7a6ad6e01",
   "metadata": {},
   "outputs": [
    {
     "name": "stdout",
     "output_type": "stream",
     "text": [
      "0.8799650036493369\n"
     ]
    }
   ],
   "source": [
    "neq = np.exp(0.4605 - 0.4082 * np.log(PGA) + 0.2332 * Mw) # N° de ciclos equivalentes\n",
    "    \n",
    "MSF = (14 / neq) ** 0.34 # Magnitude Scaling Factor\n",
    "\n",
    "MSF = np.where(MSF > 2.02, 2.02, MSF) # Verificación de que MSF se encuentra dentro de los límites permitidos\n",
    "\n",
    "print(MSF)\n"
   ]
  },
  {
   "cell_type": "markdown",
   "id": "1f7b80c4-de31-432c-9b21-e8a4d907deb1",
   "metadata": {},
   "source": [
    "Una vez obtenidos los parámetros $K_{\\sigma}$, $r_{d}$ y $MSF$ se puede calcular la demanda cíclica sin ajustar ($CSR$):"
   ]
  },
  {
   "cell_type": "code",
   "execution_count": 33,
   "id": "88a94a49-8eed-4353-96e4-1a9f7256250e",
   "metadata": {},
   "outputs": [
    {
     "name": "stdout",
     "output_type": "stream",
     "text": [
      "0.2519662620435554\n"
     ]
    }
   ],
   "source": [
    "CSR = 0.65 * PGA * (st_tot / st_eff) * rd / (MSF * Ksig) # Demanda cíclica sin ajustar\n",
    "\n",
    "print(CSR)"
   ]
  },
  {
   "cell_type": "markdown",
   "id": "edb74ada-0782-4de9-92cb-592f9ebf8783",
   "metadata": {},
   "source": [
    "La demanda cíclica obtenida anteriormente se ajustará para eventos de subducción de interface:"
   ]
  },
  {
   "cell_type": "code",
   "execution_count": 34,
   "id": "8b422abc-3564-4f73-9177-6a5a24a4252c",
   "metadata": {},
   "outputs": [
    {
     "name": "stdout",
     "output_type": "stream",
     "text": [
      "0.15673201603620715\n"
     ]
    }
   ],
   "source": [
    "if Subd == 1: # Si el terremoto es de interface, se ajusta la demanda cíclica\n",
    "\n",
    "    Smod = (((10 / PGV) ** 0.36332) * \n",
    "                ((Vs30 / Vs12) ** 2.26291) * \n",
    "                np.exp(-5.39071 * (np.log(Vs30 / Vs12)) ** 2)\n",
    "                ) #Factor de modificación para eventos de interface\n",
    "\n",
    "else: # Si el terremoto no es de interface, no se ajusta la demanda cíclica\n",
    "\n",
    "    Smod = 1\n",
    "\n",
    "CSR_mod = CSR * Smod\n",
    "\n",
    "print(CSR_mod)\n"
   ]
  },
  {
   "cell_type": "markdown",
   "id": "3eb3e8cf-d1cc-4140-93ae-4db5806f4958",
   "metadata": {},
   "source": [
    "La ecuación que describe la resistencia cíclica (CRR) es:\n",
    "\n",
    "$$CRR = \\exp\\left(1.5314\\cdot\\left[\\frac{\\left(N_{1}\\right)_{60cs}}{113}+\\left(\\frac{\\left(N_{1}\\right)_{60cs}}{1000}\\right)^2-\\left(\\frac{\\left(N_{1}\\right)_{60cs}}{140}\\right)^3+\\left(\\frac{\\left(N_{1}\\right)_{60cs}}{137}\\right)^4\\right] - 3.2171\\right)$$"
   ]
  },
  {
   "cell_type": "markdown",
   "id": "b055f978-dbdf-46f6-a188-fd0b050dca2f",
   "metadata": {},
   "source": [
    "La resistencia cíclica se obtiene a continuación:"
   ]
  },
  {
   "cell_type": "code",
   "execution_count": 35,
   "id": "39a92967-bd53-45f6-a371-9b4ae7ca4deb",
   "metadata": {},
   "outputs": [
    {
     "name": "stdout",
     "output_type": "stream",
     "text": [
      "0.13776846061678857\n"
     ]
    }
   ],
   "source": [
    "CRR = np.exp(1.53139 * ((N1_60cs / 14.1) + (N1_60cs / 126) ** 2 - (N1_60cs / 23.6) ** 3 + (N1_60cs / 25.4) ** 4) - 3.21714)\n",
    "    \n",
    "print(CRR)"
   ]
  },
  {
   "cell_type": "markdown",
   "id": "53af98e9-b3e5-4e10-a061-2f42eff0555a",
   "metadata": {},
   "source": [
    "Una vez calculadas tanto la demanda cíclica como la resistencia cíclica, puede obtnerse tanto la probabilidad de licuar ($P_{Liq}$) como el factor de seguridad ($FS_{Liq}$).\n",
    "\n",
    "La probabilidad de licuar se obtiene con la siguiente ecuación:\n",
    "\n",
    "$$P_{Liq} = \\Phi\\left[ - \\frac{\\ln(CRR) - \\ln(CSR_{Mod})}{0.5755}\\right] $$\n",
    "\n",
    "Donde $\\Phi$ es la función de distribución de probabilidad de la distribución normal.\n",
    "\n",
    "El factor de seguridad a licuar se obtiene con la siguiente ecuación:\n",
    "\n",
    "$$FS_{Liq} = \\frac{CRR\\cdot\\exp\\left[0.5755\\cdot\\Phi^{-1}\\left(0.15\\right)\\right]}{CSR_{Mod}} $$"
   ]
  },
  {
   "cell_type": "markdown",
   "id": "532bd74b-d5d7-4ad9-a571-c0843505a36f",
   "metadata": {},
   "source": [
    "La probabilidad de licuar se obtiene a continuación:"
   ]
  },
  {
   "cell_type": "code",
   "execution_count": 36,
   "id": "db00893f-7566-41bc-b797-4c8414c1aea6",
   "metadata": {},
   "outputs": [
    {
     "name": "stdout",
     "output_type": "stream",
     "text": [
      "0.589\n"
     ]
    }
   ],
   "source": [
    "Pliq = norm.cdf(- (np.log(CRR) - np.log(CSR_mod)) / 0.57547)\n",
    "\n",
    "print(round(Pliq, 3))"
   ]
  },
  {
   "cell_type": "markdown",
   "id": "1a448169-b8f3-4de6-aec6-cbfeb98b53b5",
   "metadata": {},
   "source": [
    " El factor de seguridad a licuar se obtiene a continuación:"
   ]
  },
  {
   "cell_type": "code",
   "execution_count": 37,
   "id": "f01775d4-f824-4f16-ac58-7420d1b53e1f",
   "metadata": {},
   "outputs": [
    {
     "name": "stdout",
     "output_type": "stream",
     "text": [
      "0.484\n"
     ]
    }
   ],
   "source": [
    "CRR15 = CRR * np.exp(0.57547 * norm.ppf(0.15))\n",
    "    \n",
    "FSliq = CRR15 / CSR_mod\n",
    "\n",
    "print(round(FSliq, 3))"
   ]
  }
 ],
 "metadata": {
  "kernelspec": {
   "display_name": "GMPE_kernel",
   "language": "python",
   "name": "gmpe_kernel"
  },
  "language_info": {
   "codemirror_mode": {
    "name": "ipython",
    "version": 3
   },
   "file_extension": ".py",
   "mimetype": "text/x-python",
   "name": "python",
   "nbconvert_exporter": "python",
   "pygments_lexer": "ipython3",
   "version": "3.8.10"
  }
 },
 "nbformat": 4,
 "nbformat_minor": 5
}
